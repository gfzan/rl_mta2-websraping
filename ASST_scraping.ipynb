{
 "cells": [
  {
   "cell_type": "markdown",
   "id": "44ca7afe-854e-40b4-8e9d-85fc7c5243fa",
   "metadata": {},
   "source": [
    "## MODI DI UTILIZZO DELLO SCRIPT \"ASST_scrapy.py\"\n",
    "- 1 metodo import (modulo)\n",
    "- 2 metodo run (file di sript)"
   ]
  },
  {
   "cell_type": "markdown",
   "id": "e03f22f3-6216-4cad-b34e-2f25fb4c01f2",
   "metadata": {},
   "source": [
    "### 1 IMPORT Modulo"
   ]
  },
  {
   "cell_type": "code",
   "execution_count": null,
   "id": "20d63ded-4530-4ed0-b4e8-eddf62806833",
   "metadata": {},
   "outputs": [],
   "source": [
    "import ASST_scrapy"
   ]
  },
  {
   "cell_type": "code",
   "execution_count": null,
   "id": "df8c235f-b8a7-4e28-a95c-7ec5273446a4",
   "metadata": {},
   "outputs": [],
   "source": [
    "dir(ASST_scrapy)"
   ]
  },
  {
   "cell_type": "code",
   "execution_count": null,
   "id": "0b23d9f9-6f34-4e72-9bec-4f44b058d194",
   "metadata": {},
   "outputs": [],
   "source": [
    "# ESECUZIONE METODI DELLA PRIMA CLASSE PER IL RECUPERO DEI DATI DELLE ASST\n",
    "asstRetrieve = ASST_scrapy.AsstUrlRetrieve()\n",
    "items_cleaned = asstRetrieve.getAsstUrl()\n",
    "data = asstRetrieve.linkWaitingTime(items_cleaned)\n",
    "asstRetrieve.saveData(data)"
   ]
  },
  {
   "cell_type": "code",
   "execution_count": null,
   "id": "f833e6e0-b863-41e1-af01-55c8b21ddd95",
   "metadata": {},
   "outputs": [],
   "source": [
    "# ESECUZIONE DEI METODI DELLA SECONDA CLASSE PER L'INDIVIDUAZIONE DELLE URLs CON I FILE DEI DATI\n",
    "asstScraper = ASST_scrapy.AsstGoogleMapScraper()\n",
    "urls = asstScraper.loadData('XLS/asst_links.xlsx','asst_data')\n",
    "\n",
    "for url in urls:\n",
    "    asst_list = asstScraper.get_asst_info(url)\n",
    "    print(asstScraper.asst_info)\n",
    "#print(asstScraper.asst_list)\n",
    "\n",
    "asstScraper.saveData(asst_list)"
   ]
  },
  {
   "cell_type": "markdown",
   "id": "9667cf4f-94a1-431d-b4f9-92eca0caa11a",
   "metadata": {},
   "source": [
    "### 2- RUN FILE DI SCRIPT\n",
    "la seguente cella è in formao raw per non eseguire l'algoritmo 2 volte per renderla attiva cambiare il formato a code"
   ]
  },
  {
   "cell_type": "code",
   "execution_count": null,
   "id": "a29ef73e-c858-46d4-8288-7e1978edb6b2",
   "metadata": {},
   "outputs": [],
   "source": [
    "%run ASST_scrapy.py"
   ]
  },
  {
   "cell_type": "code",
   "execution_count": null,
   "id": "802d589b-6ff5-4b57-88f0-dd5d5269f479",
   "metadata": {},
   "outputs": [],
   "source": []
  }
 ],
 "metadata": {
  "kernelspec": {
   "display_name": "Python 3 (ipykernel)",
   "language": "python",
   "name": "python3"
  },
  "language_info": {
   "codemirror_mode": {
    "name": "ipython",
    "version": 3
   },
   "file_extension": ".py",
   "mimetype": "text/x-python",
   "name": "python",
   "nbconvert_exporter": "python",
   "pygments_lexer": "ipython3",
   "version": "3.8.13"
  }
 },
 "nbformat": 4,
 "nbformat_minor": 5
}
